{
 "cells": [
  {
   "cell_type": "markdown",
   "metadata": {},
   "source": [
    "### Preamble"
   ]
  },
  {
   "cell_type": "code",
   "execution_count": 1,
   "metadata": {},
   "outputs": [],
   "source": [
    "import matplotlib.pyplot as plt\n",
    "import matplotlib.colors as clr\n",
    "import numpy as np\n",
    "import pandas as pd\n",
    "import sys\n",
    "from sklearn import metrics\n",
    "from scipy.spatial.distance import cdist\n",
    "from sklearn.cluster import KMeans\n",
    "from PIL import Image, ImageFont, ImageDraw"
   ]
  },
  {
   "cell_type": "markdown",
   "metadata": {},
   "source": [
    "### Notebook variables"
   ]
  },
  {
   "cell_type": "code",
   "execution_count": 2,
   "metadata": {},
   "outputs": [],
   "source": [
    "artwork = './pictures/Artwork_01.jpg'\n",
    "framed_image = './pictures/Artwork_01_Framed.jpg'\n",
    "\n",
    "black = (0, 0, 0)\n",
    "white = (255, 255, 255)\n",
    "grey  = (170, 170, 170)\n",
    "font = ImageFont.truetype('arial.ttf', size=17)\n",
    "bold_font = ImageFont.truetype('arialbd.ttf', size=19)\n",
    "\n",
    "frame_style_dark = {'font' : font, 'bold' : bold_font, 'frame_color' : black, 'text_color' : white}\n",
    "frame_style_light = {'font' : font, 'bold' : bold_font, 'frame_color' : white, 'text_color' : black}\n",
    "frame_style_grey = {'font' : font, 'bold' : bold_font, 'frame_color' : grey, 'text_color' : black}\n",
    "\n",
    "label = {\n",
    "    'artist'    : 'Artist Name',\n",
    "    'title'     : 'Artwork Title',\n",
    "    'material'  : 'Material(s)',\n",
    "    'size'      : 'Width x Height cm',\n",
    "    'date'      : 'Year',\n",
    "    'comment'   : 'Comment'\n",
    "}"
   ]
  },
  {
   "cell_type": "markdown",
   "metadata": {},
   "source": [
    "### Library"
   ]
  },
  {
   "cell_type": "code",
   "execution_count": 3,
   "metadata": {},
   "outputs": [],
   "source": [
    "def add_margin(pil_img, top, right, bottom, left, frame_style):\n",
    "    width, height = pil_img.size\n",
    "    new_width = width + right + left\n",
    "    new_height = height + top + bottom\n",
    "    result = Image.new(pil_img.mode, (new_width, new_height), frame_style['frame_color'])\n",
    "    result.paste(pil_img, (left, top))\n",
    "    return result\n",
    "\n",
    "def add_text(artwork, label, frame_style):\n",
    "    draw = ImageDraw.Draw(artwork)\n",
    "\n",
    "    text_color = frame_style['text_color']\n",
    "    font = frame_style['font']\n",
    "    bold = frame_style['bold']\n",
    "    \n",
    "    left = int(artwork.width / 12)\n",
    "    height_unit = int(artwork.height / 13)\n",
    "    vspace = int(height_unit / 5)\n",
    "    \n",
    "    top1 = int(height_unit * 11.5)\n",
    "    line1 = label['artist']\n",
    "    draw.text((left, top1), line1, fill = text_color, font = bold)\n",
    "    \n",
    "    top2 = top1 + vspace\n",
    "    line2 = label['title'] + ', ' + label['date'] \n",
    "    draw.text((left, top2), line2, fill = text_color, font = bold)\n",
    "\n",
    "    top3 = top2 + vspace\n",
    "    line3 = label['material'] + ',' + label['size']\n",
    "    draw.text((left, top3), line3, fill = text_color, font = font)\n",
    "\n",
    "    top4 = top3 + vspace\n",
    "    line4 = label['comment']\n",
    "    draw.text((left, top4), line4, fill = text_color, font = font)\n",
    "    \n",
    "    return artwork\n",
    "\n",
    "def frame(artwork, framed, label, frame_style):\n",
    "    img = Image.open(artwork)\n",
    "    top = int(img.size[1] * 0.1)\n",
    "    right = int(img.size[0] * 0.1)\n",
    "    left = right\n",
    "    bottom = int(top * 2)\n",
    "    framed = add_margin(img, top, right , bottom, left, frame_style)\n",
    "    framed = add_text(framed, label, frame_style)\n",
    "    framed.save(framed_image, quality=100)\n",
    "    return framed"
   ]
  },
  {
   "cell_type": "markdown",
   "metadata": {},
   "source": [
    "### Test"
   ]
  },
  {
   "cell_type": "code",
   "execution_count": 4,
   "metadata": {},
   "outputs": [],
   "source": [
    "frame(artwork, framed_image, label, frame_style_grey)\n",
    "img = Image.open(framed_image)\n",
    "img.show()\n",
    "img.close()"
   ]
  },
  {
   "cell_type": "code",
   "execution_count": null,
   "metadata": {},
   "outputs": [],
   "source": []
  }
 ],
 "metadata": {
  "kernelspec": {
   "display_name": "Python 3",
   "language": "python",
   "name": "python3"
  },
  "language_info": {
   "codemirror_mode": {
    "name": "ipython",
    "version": 3
   },
   "file_extension": ".py",
   "mimetype": "text/x-python",
   "name": "python",
   "nbconvert_exporter": "python",
   "pygments_lexer": "ipython3",
   "version": "3.7.6"
  }
 },
 "nbformat": 4,
 "nbformat_minor": 4
}
