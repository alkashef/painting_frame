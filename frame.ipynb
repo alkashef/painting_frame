{
 "cells": [
  {
   "cell_type": "markdown",
   "metadata": {},
   "source": [
    "### Preamble"
   ]
  },
  {
   "cell_type": "code",
   "execution_count": 1,
   "metadata": {},
   "outputs": [],
   "source": [
    "import os\n",
    "from PIL import Image, ImageFont, ImageDraw"
   ]
  },
  {
   "cell_type": "markdown",
   "metadata": {},
   "source": [
    "### Notebook variables"
   ]
  },
  {
   "cell_type": "code",
   "execution_count": 2,
   "metadata": {},
   "outputs": [],
   "source": [
    "black = (0  , 0  , 0)\n",
    "white = (255, 255, 255)\n",
    "grey  = (170, 170, 170)\n",
    "\n",
    "frame_style_dark  = {'frame_color' : black, 'text_color' : white}\n",
    "frame_style_light = {'frame_color' : white, 'text_color' : black}\n",
    "frame_style_grey  = {'frame_color' : grey,  'text_color' : black}\n",
    "\n",
    "config = {'min_bottom'      : 200,\n",
    "          'min_font'        : 12,\n",
    "          'font_ratio'      : 0.07,\n",
    "          'frame_ratio'     : 0.1,\n",
    "          'label_in_bottom' : 0.66,\n",
    "          'label_vspace'    : 9}"
   ]
  },
  {
   "cell_type": "markdown",
   "metadata": {},
   "source": [
    "### Library"
   ]
  },
  {
   "cell_type": "code",
   "execution_count": 3,
   "metadata": {},
   "outputs": [],
   "source": [
    "def add_margin(pil_img, top, right, bottom, left, frame_style):\n",
    "    width, height = pil_img.size\n",
    "\n",
    "    min_bottom = config['min_bottom']\n",
    "    if bottom < min_bottom:\n",
    "        bottom = min_bottom\n",
    "    new_width = width + right + left\n",
    "    new_height = height + top + bottom\n",
    "    \n",
    "    result = Image.new(pil_img.mode, (new_width, new_height), frame_style['frame_color'])\n",
    "    result.paste(pil_img, (left, top))\n",
    "    \n",
    "    min_font = config['min_font']\n",
    "    font_size = int(bottom * config['font_ratio'])\n",
    "    if font_size < min_font:\n",
    "        font_size = min_font\n",
    "    #print(font_size)\n",
    "    \n",
    "    frame_style['font'] = ImageFont.truetype('arial.ttf', size = font_size)\n",
    "    frame_style['bold'] = ImageFont.truetype('arialbd.ttf', size = font_size + 1)\n",
    "    \n",
    "    return result, bottom\n",
    "\n",
    "def add_text(artwork, label, frame_style, bottom):\n",
    "    draw = ImageDraw.Draw(artwork)\n",
    "\n",
    "    text_color = frame_style['text_color']\n",
    "    font = frame_style['font']\n",
    "    bold = frame_style['bold']\n",
    "    \n",
    "    left = int(artwork.width / ((1 / config['frame_ratio']) + 2 ))\n",
    "    vspace = int(bottom/config['label_vspace'])\n",
    "    \n",
    "    top1 = int(artwork.height - (bottom * config['label_in_bottom']))\n",
    "    line1 = label['artist']\n",
    "    draw.text((left, top1), line1, fill = text_color, font = bold)\n",
    "    \n",
    "    top2 = top1 + vspace\n",
    "    line2 = label['title'] + ' (' + label['date'] + ')' \n",
    "    draw.text((left, top2), line2, fill = text_color, font = bold)\n",
    "\n",
    "    top3 = top2 + vspace\n",
    "    line3 = label['material'] + ', ' + label['size']\n",
    "    draw.text((left, top3), line3, fill = text_color, font = font)\n",
    "\n",
    "    top4 = top3 + vspace\n",
    "    line4 = label['comment']\n",
    "    draw.text((left, top4), line4, fill = text_color, font = font)\n",
    "    \n",
    "    return artwork\n",
    "\n",
    "def frame(artwork, label, frame_style):\n",
    "    artwork_path_abs = os.path.abspath(artwork)\n",
    "    framed_path_abs = os.path.splitext(artwork_path_abs)[0] + \"_Framed\" + os.path.splitext(artwork_path_abs)[1]\n",
    "    \n",
    "    img = Image.open(artwork_path_abs)\n",
    "    \n",
    "    r = config['frame_ratio']\n",
    "    \n",
    "    top = int(img.size[1] * r)\n",
    "    right = int(img.size[0] * r)\n",
    "    if top < right:\n",
    "        top = right\n",
    "    else:\n",
    "        right = top\n",
    "    left = int(img.size[0] * r)\n",
    "    bottom = int(top * 2)\n",
    "    \n",
    "    framed, bottom = add_margin(img, top, right , bottom, left, frame_style)\n",
    "    framed_labeled = add_text(framed, label, frame_style, bottom)\n",
    "    \n",
    "    framed_labeled.save(framed_path_abs, quality=100)\n",
    "    \n",
    "    print(\"Framed and labeled artwork is save to:\\n\" + framed_path_abs)\n",
    "    \n",
    "    return framed_path_abs"
   ]
  },
  {
   "cell_type": "markdown",
   "metadata": {},
   "source": [
    "### Test"
   ]
  },
  {
   "cell_type": "code",
   "execution_count": 31,
   "metadata": {},
   "outputs": [
    {
     "name": "stdout",
     "output_type": "stream",
     "text": [
      "Framed and labeled artwork is save to:\n",
      "C:\\Alkashef\\Google Drive\\Island of Sanity\\Wudl-Kashef\\With Wudl\\Dikhr\\Dikhr - 21_Framed.jpg\n"
     ]
    }
   ],
   "source": [
    "label = {\n",
    "    'artist'    : 'Ahmad Alkashef',\n",
    "    'title'     : 'Dikhr - 21',\n",
    "    'material'  : 'Ink on Paper',\n",
    "    'size'      : '1.89 x 1.11 meter',\n",
    "    'date'      : '2020',\n",
    "    'comment'   : 'The Dikhr Series'\n",
    "}\n",
    "\n",
    "folder = 'C:\\\\Alkashef\\Google Drive\\\\Island of Sanity\\\\Wudl-Kashef\\\\With Wudl\\\\Dikhr\\\\'\n",
    "file_name = 'Dikhr - 21.jpg'\n",
    "artwork = folder + file_name\n",
    "framed_artwork = frame(artwork, label, frame_style_dark)\n",
    "img = Image.open(framed_artwork)\n",
    "img.close()"
   ]
  },
  {
   "cell_type": "code",
   "execution_count": null,
   "metadata": {},
   "outputs": [],
   "source": []
  }
 ],
 "metadata": {
  "kernelspec": {
   "display_name": "Python 3",
   "language": "python",
   "name": "python3"
  },
  "language_info": {
   "codemirror_mode": {
    "name": "ipython",
    "version": 3
   },
   "file_extension": ".py",
   "mimetype": "text/x-python",
   "name": "python",
   "nbconvert_exporter": "python",
   "pygments_lexer": "ipython3",
   "version": "3.7.6"
  }
 },
 "nbformat": 4,
 "nbformat_minor": 4
}
